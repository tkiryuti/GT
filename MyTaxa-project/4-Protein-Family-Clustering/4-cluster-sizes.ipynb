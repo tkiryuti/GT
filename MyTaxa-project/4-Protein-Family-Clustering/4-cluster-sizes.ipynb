{
 "cells": [
  {
   "cell_type": "code",
   "execution_count": 1,
   "metadata": {},
   "outputs": [],
   "source": [
    "## Protein family cluster size distribution\n",
    "# The Clusters file has representative, member in each line (tab-separated)\n",
    "# The count is the number of times the same reperesntative is listed (in the first column)."
   ]
  },
  {
   "cell_type": "code",
   "execution_count": 2,
   "metadata": {},
   "outputs": [],
   "source": [
    "import gzip"
   ]
  },
  {
   "cell_type": "code",
   "execution_count": 3,
   "metadata": {},
   "outputs": [],
   "source": [
    "file = \"Clusters.tsv.gz\""
   ]
  },
  {
   "cell_type": "code",
   "execution_count": 4,
   "metadata": {},
   "outputs": [],
   "source": [
    "counts_list = []\n",
    "with gzip.open(file,'rt') as fh:\n",
    "    # Representative in first line\n",
    "    previous_rep = fh.readline().split('\\t')[0]\n",
    "    # Start count for first rep\n",
    "    count = 1\n",
    "    # Loop through rest of lines\n",
    "    for line in fh:\n",
    "        rep = line.split('\\t')[0]\n",
    "        if previous_rep == rep:\n",
    "            count += 1\n",
    "        else:\n",
    "            # If rep is different from last line, restart counting and add count to list\n",
    "            counts_list.append( count )\n",
    "            count = 1\n",
    "        previous_rep = rep\n",
    "# Add the last count\n",
    "counts_list.append( count )"
   ]
  },
  {
   "cell_type": "code",
   "execution_count": 5,
   "metadata": {},
   "outputs": [
    {
     "data": {
      "text/plain": [
       "13139838"
      ]
     },
     "execution_count": 5,
     "metadata": {},
     "output_type": "execute_result"
    }
   ],
   "source": [
    "# Number of lines in Clusters file = 63751597\n",
    "# Number of clusters = 63,751,597\n",
    "# Number of reps     = 13,139,838\n",
    "len(counts_list)"
   ]
  },
  {
   "cell_type": "code",
   "execution_count": 6,
   "metadata": {},
   "outputs": [
    {
     "name": "stdout",
     "output_type": "stream",
     "text": [
      "[1, 7, 1, 1]\n",
      "[20, 15, 2, 2]\n"
     ]
    }
   ],
   "source": [
    "# Check first few and last few counts (by looking at first few and last few lines of cluster file)\n",
    "print(counts_list[:4])\n",
    "print(counts_list[-4:])"
   ]
  },
  {
   "cell_type": "code",
   "execution_count": 7,
   "metadata": {},
   "outputs": [],
   "source": [
    "import matplotlib.pyplot as plt"
   ]
  },
  {
   "cell_type": "code",
   "execution_count": 8,
   "metadata": {},
   "outputs": [],
   "source": [
    "plt.rcParams.update({'font.size': 14})"
   ]
  },
  {
   "cell_type": "code",
   "execution_count": 9,
   "metadata": {},
   "outputs": [
    {
     "data": {
      "text/plain": [
       "14604"
      ]
     },
     "execution_count": 9,
     "metadata": {},
     "output_type": "execute_result"
    }
   ],
   "source": [
    "# Max of counts list:\n",
    "max(counts_list)"
   ]
  },
  {
   "cell_type": "code",
   "execution_count": 12,
   "metadata": {},
   "outputs": [
    {
     "data": {
      "image/png": "[encoded data removed]",
      "text/plain": [
       "<Figure size 720x288 with 1 Axes>"
      ]
     },
     "metadata": {
      "needs_background": "light"
     },
     "output_type": "display_data"
    }
   ],
   "source": [
    "plt.figure(figsize=(10,4))\n",
    "_ = plt.hist(counts_list, 1000, color='purple')\n",
    "plt.xscale('log')\n",
    "plt.yscale('log')\n",
    "_ = plt.ylabel('log (frequency)')\n",
    "_ = plt.xlabel('log (cluster_size)')\n",
    "_ = plt.title('Protein family cluster size distribution',fontweight='bold')\n",
    "_ = plt.savefig('cluster_sizes.png', bbox_inches='tight', dpi=100)"
   ]
  }
 ],
 "metadata": {
  "kernelspec": {
   "display_name": "Python 3",
   "language": "python",
   "name": "python3"
  },
  "language_info": {
   "codemirror_mode": {
    "name": "ipython",
    "version": 3
   },
   "file_extension": ".py",
   "mimetype": "text/x-python",
   "name": "python",
   "nbconvert_exporter": "python",
   "pygments_lexer": "ipython3",
   "version": "3.7.4"
  }
 },
 "nbformat": 4,
 "nbformat_minor": 2
}
